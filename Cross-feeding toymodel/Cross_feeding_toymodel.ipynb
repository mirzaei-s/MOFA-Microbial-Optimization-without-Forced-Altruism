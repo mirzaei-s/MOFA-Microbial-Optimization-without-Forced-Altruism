{
  "nbformat": 4,
  "nbformat_minor": 0,
  "metadata": {
    "colab": {
      "provenance": []
    },
    "kernelspec": {
      "name": "python3",
      "display_name": "Python 3"
    },
    "language_info": {
      "name": "python"
    }
  },
  "cells": [
    {
      "cell_type": "code",
      "execution_count": 2,
      "metadata": {
        "colab": {
          "base_uri": "https://localhost:8080/"
        },
        "id": "xlX5KOy6OVVd",
        "outputId": "713d8f08-7305-4bad-e453-5310fb89fbd1"
      },
      "outputs": [
        {
          "output_type": "stream",
          "name": "stdout",
          "text": [
            "--2025-08-26 16:36:57--  https://raw.githubusercontent.com/IDAES/idaes-pse/main/scripts/colab_helper.py\n",
            "Resolving raw.githubusercontent.com (raw.githubusercontent.com)... 185.199.108.133, 185.199.109.133, 185.199.110.133, ...\n",
            "Connecting to raw.githubusercontent.com (raw.githubusercontent.com)|185.199.108.133|:443... connected.\n",
            "HTTP request sent, awaiting response... 200 OK\n",
            "Length: 5459 (5.3K) [text/plain]\n",
            "Saving to: ‘colab_helper.py’\n",
            "\n",
            "\rcolab_helper.py       0%[                    ]       0  --.-KB/s               \rcolab_helper.py     100%[===================>]   5.33K  --.-KB/s    in 0s      \n",
            "\n",
            "2025-08-26 16:36:57 (65.4 MB/s) - ‘colab_helper.py’ saved [5459/5459]\n",
            "\n",
            "Installing idaes via pip...\n",
            "idaes was successfully installed\n",
            "idaes, version 2.8.0\n",
            "\n",
            "\n",
            "Running idaes get-extensions to install Ipopt, k_aug, and more...\n",
            "Checking solver versions:\n",
            "Ipopt 3.13.2 (x86_64-pc-linux-gnu), ASL(20190605)\n",
            "\n",
            "\n",
            "\n",
            "[K_AUG] 0.1.0, Part of the IDAES PSE framework\n",
            "Please visit https://idaes.org/ (x86_64-pc-linux-gnu), ASL(20190605)\n",
            "\n",
            "\n",
            "\n",
            "Couenne 0.5.8 -- an Open-Source solver for Mixed Integer Nonlinear Optimization\n",
            "Mailing list: couenne@list.coin-or.org\n",
            "Instructions: http://www.coin-or.org/Couenne\n",
            "couenne (x86_64-pc-linux-gnu), ASL(20190605)\n",
            "\n",
            "\n",
            "\n",
            "Bonmin 1.8.8 using Cbc 2.10.10 and Ipopt 3.13.2\n",
            "bonmin (x86_64-pc-linux-gnu), ASL(20190605)\n",
            "\n",
            "\n",
            "\n",
            "Ipopt 3.13.3 (x86_64-pc-linux-gnu), ASL(20190605)\n",
            "\n",
            "\n",
            "\n",
            "1.0 dot_1' (x86_64-pc-linux-gnu), ASL(20190605)\n",
            "\n",
            "\n",
            "\n"
          ]
        }
      ],
      "source": [
        "import sys\n",
        "if \"google.colab\" in sys.modules:\n",
        "    !wget \"https://raw.githubusercontent.com/IDAES/idaes-pse/main/scripts/colab_helper.py\"\n",
        "    import colab_helper\n",
        "    colab_helper.install_idaes()\n",
        "    colab_helper.install_ipopt()\n",
        "\n",
        "\n",
        "import pyomo.environ as pyo\n",
        "from pyomo.environ import *"
      ]
    },
    {
      "cell_type": "code",
      "source": [
        "rxns1=['v1_1', 'v2_up_1','v3_1' ,'v4_1','v_bio1']\n",
        "mets1=['m1_1','m2_1','m3_1']\n",
        "lb1=[0,0,0,0,0]\n",
        "ub1=[1,1,1,1,1]\n",
        "S1={('m1_1','v1_1'):0 ,('m1_1','v2_up_1'):0 ,('m1_1','v3_1'):1,('m1_1','v4_1'):-1,('m1_1','v_bio1'):0 ,\\\n",
        "    ('m2_1','v1_1'):-1 ,('m2_1','v2_up_1'):1 ,('m2_1','v3_1'):-1,('m2_1','v4_1'):0,('m2_1','v_bio1'):0 ,\\\n",
        "    ('m3_1','v1_1'):0,('m3_1','v2_up_1'):0 ,('m3_1','v3_1'):1,('m3_1','v4_1'):0 ,('m3_1','v_bio1'):-1\n",
        "}\n",
        "rxns2=['v1_up', 'v2','v3','v4_up','v_bio2']\n",
        "mets2=['m1','m2','m3','m4']\n",
        "lb2=[0,0,0,0,0]\n",
        "ub2=[1,1,1,1,1]\n",
        "S2={('m1','v1_up'):0 ,('m1','v2'):0 ,('m1','v3'):-1 ,('m1','v4_up'):1 ,('m1','v_bio2'):0 ,\\\n",
        "    ('m2','v1_up'):2 ,('m2','v2'):-1 ,('m2','v3'):0 ,('m2','v4_up'):0 ,('m2','v_bio2'):0 ,\\\n",
        "    ('m3','v1_up'):2 ,('m3','v2'):0 ,('m3','v3'):-1 ,('m3','v4_up'):0 ,('m3','v_bio2'):0 ,\\\n",
        "    ('m4','v1_up'):0 ,('m4','v2'):0 ,('m4','v3'):1 ,('m4','v4_up'):0 ,('m4','v_bio2'):-1\n",
        "}\n",
        "lb=[0,0,0,0,0,0,0,0,0,0,0]\n",
        "ub=[1,1,1,1,1,1,1,1,1,1,1]"
      ],
      "metadata": {
        "id": "eC0DUkXoOeN7"
      },
      "execution_count": 3,
      "outputs": []
    },
    {
      "cell_type": "code",
      "source": [
        "import pandas as pd\n",
        "df = pd.Series(S2).unstack(fill_value=0)\n",
        "\n",
        "print(df)\n",
        "\n",
        "df = pd.Series(S1).unstack(fill_value=0)\n",
        "\n",
        "print(df)"
      ],
      "metadata": {
        "colab": {
          "base_uri": "https://localhost:8080/"
        },
        "id": "SG8WuWoYOfUb",
        "outputId": "dcca9242-cbef-4072-98b8-d90f56de27bb"
      },
      "execution_count": 4,
      "outputs": [
        {
          "output_type": "stream",
          "name": "stdout",
          "text": [
            "    v1_up  v2  v3  v4_up  v_bio2\n",
            "m1      0   0  -1      1       0\n",
            "m2      2  -1   0      0       0\n",
            "m3      2   0  -1      0       0\n",
            "m4      0   0   1      0      -1\n",
            "      v1_1  v2_up_1  v3_1  v4_1  v_bio1\n",
            "m1_1     0        0     1    -1       0\n",
            "m2_1    -1        1    -1     0       0\n",
            "m3_1     0        0     1     0      -1\n"
          ]
        }
      ]
    },
    {
      "cell_type": "code",
      "source": [
        "# create a model\n",
        "model = ConcreteModel()\n",
        "\n",
        "#create Sets\n",
        "model.N = Set(initialize=rxns1 + rxns2)\n",
        "\n",
        "model.M = Set(initialize=mets1 + mets2)\n",
        "\n",
        "\n",
        "biomass_id=['v_bio1','v_bio2']\n",
        "\n",
        "model.lb = pyo.Param(model.N, initialize={rxn: lb[i] for i, rxn in enumerate(rxns2 + rxns1)})\n",
        "model.ub = pyo.Param(model.N,initialize={rxn: ub[i] for i, rxn in enumerate(rxns2 + rxns1)})\n",
        "\n",
        "# Define the variable with the custom bounds function\n",
        "model.v = pyo.Var(model.N)\n",
        "\n",
        "model.lamda=pyo.Var(model.M)\n",
        "\n",
        "model.eta_UB=pyo.Var(model.N ,domain=pyo.NonNegativeReals)\n",
        "\n",
        "model.eta_Uptake=pyo.Var(model.N ,domain=pyo.NonNegativeReals)\n",
        "\n",
        "model.eta_LB=pyo.Var(model.N,domain=pyo.NonNegativeReals)\n",
        "\n",
        "model.biomass = Set(initialize=biomass_id, within=model.N)\n",
        "\n",
        "model.obj=pyo.Objective(expr=sum(model.v[i] for i in model.biomass), sense=pyo.maximize)\n",
        "\n",
        "\n",
        "def massbalance_rule(mdl, m):\n",
        "    if m in mets1:\n",
        "        return sum(S1[m, n] * mdl.v[n] for n in rxns1) == 0\n",
        "    elif m in mets2:\n",
        "        return sum(S2[m, n] * mdl.v[n] for n in rxns2) == 0\n",
        "    else:\n",
        "        # In case model.M contains something unexpected\n",
        "        return pyo.Constraint.Skip\n",
        "\n",
        "model.massbalance = pyo.Constraint(model.M, rule=massbalance_rule)\n",
        "\n",
        "def UB_const_species_rule(mdl, r):\n",
        "          return mdl.v[r] <= mdl.ub[r]\n",
        "model.ub_species= pyo.Constraint(model.N, rule=UB_const_species_rule)\n",
        "\n",
        "def LB_const_species_rule(mdl, r):\n",
        "      return -1*mdl.v[r] <= -1*mdl.lb[r]\n",
        "model.lb_species= pyo.Constraint(model.N, rule=LB_const_species_rule)\n",
        "\n",
        "model.uptakespecices1=pyo.Constraint(expr=model.v['v2_up_1']<= model.v['v2'])\n",
        "\n",
        "model.uptakespecices2_1=pyo.Constraint(expr=model.v['v1_up']<= model.v['v1_1'])\n",
        "\n",
        "model.uptakespecices2_2=pyo.Constraint(expr=model.v['v4_up']<= model.v['v4_1'])\n",
        "\n",
        "def dual_const_species1_rule(mdl, n):\n",
        "   if n not in ['v_bio1'] and n in rxns1:\n",
        "     if n in ['v2_up_1']:\n",
        "      return sum(S1[m,n]*mdl.lamda[m] for m in mets1)+mdl.eta_Uptake[n]+ mdl.eta_UB[n]-mdl.eta_LB[n]==0\n",
        "\n",
        "     return sum(S1[m,n]*mdl.lamda[m] for m in mets1)+ mdl.eta_UB[n]-mdl.eta_LB[n]==0\n",
        "\n",
        "   if n in ['v_bio1'] :\n",
        "       return sum(S1[m,n]*mdl.lamda[m] for m in mets1)+ mdl.eta_UB[n]-mdl.eta_LB[n]==1\n",
        "\n",
        "   if n not in ['v_bio2'] and n in rxns2:\n",
        "    if n in ['v1_up','v4_up']:\n",
        "       return sum(S2[m,n]*mdl.lamda[m] for m in mets2)+mdl.eta_Uptake[n]+ mdl.eta_UB[n]-mdl.eta_LB[n]==0\n",
        "\n",
        "    return sum(S2[m,n]*mdl.lamda[m] for m in mets2)+ mdl.eta_UB[n]-mdl.eta_LB[n]==0\n",
        "\n",
        "   if n in ['v_bio2'] :\n",
        "       return sum(S2[m,n]*mdl.lamda[m] for m in mets2)+ mdl.eta_UB[n]-mdl.eta_LB[n]==1\n",
        "\n",
        "model.dual_species= pyo.Constraint(model.N, rule=dual_const_species1_rule)\n",
        "\n",
        "\n",
        "model.dual_eq_primal_species1=pyo.Constraint(expr=model.v['v2_up_1']*model.eta_Uptake['v2_up_1']+\\\n",
        "                                             sum(model.ub[n]*model.eta_UB[n] for n in rxns1)-\\\n",
        "                                             sum(model.lb[n]*model.eta_LB[n] for n in rxns1 )==model.v[biomass_id[0]])\n",
        "\n",
        "model.dual_eq_primal_species2=pyo.Constraint(expr=model.v['v4_up']*model.eta_Uptake['v4_up']+model.v['v1_up']*model.eta_Uptake['v1_up']+\\\n",
        "                                             sum(model.ub[n]*model.eta_UB[n] for n in rxns2)-\\\n",
        "                                             sum(model.lb[n]*model.eta_LB[n] for n in rxns2 )==model.v[biomass_id[1]])\n",
        "\n",
        "\n",
        "result=SolverFactory('ipopt').solve(model)\n",
        "\n",
        "print('Species1 growth rate: ',model.v[biomass_id[0]].value,'\\nSpecies2 growth rate: ',model.v[biomass_id[1]].value,'\\nCommunity growth rate:', model.obj())\n",
        "print(\"\\nSolver Status:\", result.solver.status)"
      ],
      "metadata": {
        "colab": {
          "base_uri": "https://localhost:8080/"
        },
        "id": "oCsFtQLgOgSv",
        "outputId": "9b3a6003-9ee1-438b-d45c-096b43844cb8"
      },
      "execution_count": 5,
      "outputs": [
        {
          "output_type": "stream",
          "name": "stdout",
          "text": [
            "Species1 growth rate:  2.087253822323966e-09 \n",
            "Species2 growth rate:  -4.517746308293723e-09 \n",
            "Community growth rate: -2.430492485969757e-09\n",
            "\n",
            "Solver Status: ok\n"
          ]
        }
      ]
    }
  ]
}