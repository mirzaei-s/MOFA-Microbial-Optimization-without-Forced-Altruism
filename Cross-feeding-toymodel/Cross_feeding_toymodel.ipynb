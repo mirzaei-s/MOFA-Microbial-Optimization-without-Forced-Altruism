{
  "nbformat": 4,
  "nbformat_minor": 0,
  "metadata": {
    "colab": {
      "provenance": []
    },
    "kernelspec": {
      "name": "python3",
      "display_name": "Python 3"
    },
    "language_info": {
      "name": "python"
    }
  },
  "cells": [
    {
      "cell_type": "code",
      "execution_count": null,
      "metadata": {
        "id": "xlX5KOy6OVVd",
        "collapsed": true
      },
      "outputs": [],
      "source": [
        "import sys\n",
        "if \"google.colab\" in sys.modules:\n",
        "    !wget \"https://raw.githubusercontent.com/IDAES/idaes-pse/main/scripts/colab_helper.py\"\n",
        "    import colab_helper\n",
        "    colab_helper.install_idaes()\n",
        "    colab_helper.install_ipopt()\n",
        "\n",
        "\n",
        "import pyomo.environ as pyo\n",
        "from pyomo.environ import *"
      ]
    },
    {
      "cell_type": "code",
      "source": [
        "rxns1=[ 'v1_1','v2_1' ,'v3_1','v4_1','v_bio1']\n",
        "mets1=['m1_1','m2_1','m3_1','m4_1']\n",
        "lb1=[0,0,0,0]\n",
        "ub1=[1,1,1,1]\n",
        "S1={('m1_1','v1_1'):-1,('m1_1','v2_1'):1 ,('m1_1','v3_1'):0,('m1_1','v4_1'):0,('m1_1','v5_1'):0,('m1_1','v_bio1'):0 ,\\\n",
        "    ('m2_1','v1_1'):0 ,('m2_1','v2_1'):0,('m2_1','v3_1'):-1,('m2_1','v4_1'):1,('m2_1','v5_1'):0,('m2_1','v_bio1'):0 ,\\\n",
        "    ('m3_1','v1_1'):0 ,('m3_1','v2_1'):-1,('m3_1','v3_1'):1,('m3_1','v4_1'):0 , ('m3_1','v5_1'):0 ,('m3_1','v_bio1'):-1,\\\n",
        "    ('m4_1','v1_1'):0 ,('m4_1','v2_1'):0,('m4_1','v3_1'):-1,('m4_1','v4_1'):0 , ('m4_1','v5_1'):1 ,('m4_1','v_bio1'):0\n",
        "}\n",
        "rxns2=['v1_2', 'v2_2','v3_2','v4_2','v_bio2']\n",
        "mets2=['m1_2','m2_2','m3_2','m4_2']\n",
        "lb2=[0,0,0,0,0,0]\n",
        "ub2=[1,1,1,1,1,1]\n",
        "S2={('m1_2','v1_2'):1 ,('m1_2','v2_2'):-1 ,('m1_2','v3_2'):0 ,('m1_2','v4_2'):0,('m1_2','v_bio2'):0 ,\\\n",
        "    ('m2_2','v1_2'):0 ,('m2_2','v2_2'):0 ,('m2_2','v3_2'):1 ,('m2_2','v4_2'):-1,('m2_2','v_bio2'):0 ,\\\n",
        "    ('m3_2','v1_2'):0 ,('m3_2','v2_2'):1 ,('m3_2','v3_2'):-1 ,('m3_2','v4_2'):0 ,('m3_2','v_bio2'):-1 ,\\\n",
        "    ('m4_2','v1_2'):0 ,('m4_2','v2_2'):0 ,('m4_2','v3_2'):1 ,('m4_2','v4_2'):0 ,('m4_2','v_bio2'):0\n",
        "}\n",
        "lb=[0,0,0,0,0,0,0,0,0,0]\n",
        "ub=[1,1,1,1,1,1,1,1,1,1]"
      ],
      "metadata": {
        "id": "eC0DUkXoOeN7"
      },
      "execution_count": 2,
      "outputs": []
    },
    {
      "cell_type": "code",
      "source": [
        "import pandas as pd\n",
        "df = pd.Series(S2).unstack(fill_value=0)\n",
        "\n",
        "print(df)\n",
        "\n",
        "df = pd.Series(S1).unstack(fill_value=0)\n",
        "\n",
        "print(df)"
      ],
      "metadata": {
        "id": "SG8WuWoYOfUb",
        "collapsed": true
      },
      "execution_count": null,
      "outputs": []
    },
    {
      "cell_type": "code",
      "source": [
        "# create a model\n",
        "model = ConcreteModel()\n",
        "\n",
        "#create Sets\n",
        "model.N = Set(initialize=rxns1 + rxns2)\n",
        "\n",
        "model.M = Set(initialize=mets1 + mets2)\n",
        "\n",
        "\n",
        "biomass_id=['v_bio1','v_bio2']\n",
        "\n",
        "model.lb = pyo.Param(model.N, initialize={rxn: lb[i] for i, rxn in enumerate(rxns2 + rxns1)})\n",
        "model.ub = pyo.Param(model.N,initialize={rxn: ub[i] for i, rxn in enumerate(rxns2 + rxns1)})\n",
        "\n",
        "# Define the variable with the custom bounds function\n",
        "model.v = pyo.Var(model.N)\n",
        "\n",
        "model.lamda=pyo.Var(model.M)\n",
        "\n",
        "model.eta_UB=pyo.Var(model.N ,domain=pyo.NonNegativeReals)\n",
        "\n",
        "model.eta_Uptake=pyo.Var(model.N ,domain=pyo.NonNegativeReals)\n",
        "\n",
        "model.eta_LB=pyo.Var(model.N,domain=pyo.NonNegativeReals)\n",
        "\n",
        "model.biomass = Set(initialize=biomass_id, within=model.N)\n",
        "\n",
        "model.obj=pyo.Objective(expr=sum(model.v[i] for i in model.biomass), sense=pyo.maximize)\n",
        "\n",
        "\n",
        "def massbalance_rule(mdl, m):\n",
        "    if m in mets1:\n",
        "        return sum(S1[m, n] * mdl.v[n] for n in rxns1) == 0\n",
        "    elif m in mets2:\n",
        "        return sum(S2[m, n] * mdl.v[n] for n in rxns2) == 0\n",
        "    else:\n",
        "        # In case model.M contains something unexpected\n",
        "        return pyo.Constraint.Skip\n",
        "\n",
        "model.massbalance = pyo.Constraint(model.M, rule=massbalance_rule)\n",
        "\n",
        "def UB_const_species_rule(mdl, r):\n",
        "          return mdl.v[r] <= mdl.ub[r]\n",
        "model.ub_species= pyo.Constraint(model.N, rule=UB_const_species_rule)\n",
        "\n",
        "def LB_const_species_rule(mdl, r):\n",
        "      return -1*mdl.v[r] <= -1*mdl.lb[r]\n",
        "model.lb_species= pyo.Constraint(model.N, rule=LB_const_species_rule)\n",
        "\n",
        "model.uptakespecices1=pyo.Constraint(expr=model.v['v4_1']<= model.v['v4_2'])\n",
        "\n",
        "\n",
        "model.uptakespecices2_2=pyo.Constraint(expr=model.v['v1_2']<= model.v['v1_1'])\n",
        "\n",
        "def dual_const_species1_rule(mdl, n):\n",
        "   if n not in ['v_bio1'] and n in rxns1:\n",
        "     if n in ['v4_1']:\n",
        "      return sum(S1[m,n]*mdl.lamda[m] for m in mets1)+mdl.eta_Uptake[n]+ mdl.eta_UB[n]-mdl.eta_LB[n]==0\n",
        "\n",
        "     return sum(S1[m,n]*mdl.lamda[m] for m in mets1)+ mdl.eta_UB[n]-mdl.eta_LB[n]==0\n",
        "\n",
        "   if n in ['v_bio1'] :\n",
        "       return sum(S1[m,n]*mdl.lamda[m] for m in mets1)+ mdl.eta_UB[n]-mdl.eta_LB[n]==1\n",
        "\n",
        "   if n not in ['v_bio2'] and n in rxns2:\n",
        "    if n in ['v1_2']:\n",
        "       return sum(S2[m,n]*mdl.lamda[m] for m in mets2)+mdl.eta_Uptake[n]+ mdl.eta_UB[n]-mdl.eta_LB[n]==0\n",
        "\n",
        "    return sum(S2[m,n]*mdl.lamda[m] for m in mets2)+ mdl.eta_UB[n]-mdl.eta_LB[n]==0\n",
        "\n",
        "   if n in ['v_bio2'] :\n",
        "       return sum(S2[m,n]*mdl.lamda[m] for m in mets2)+ mdl.eta_UB[n]-mdl.eta_LB[n]==1\n",
        "\n",
        "model.dual_species= pyo.Constraint(model.N, rule=dual_const_species1_rule)\n",
        "\n",
        "\n",
        "model.dual_eq_primal_species1=pyo.Constraint(expr=model.v['v4_2']*model.eta_Uptake['v4_1']+\\\n",
        "                                             sum(model.ub[n]*model.eta_UB[n] for n in rxns1)-\\\n",
        "                                             sum(model.lb[n]*model.eta_LB[n] for n in rxns1 )==model.v[biomass_id[0]])\n",
        "\n",
        "model.dual_eq_primal_species2=pyo.Constraint(expr=model.v['v1_1']*model.eta_Uptake['v1_2']+\\\n",
        "                                             sum(model.ub[n]*model.eta_UB[n] for n in rxns2)-\\\n",
        "                                             sum(model.lb[n]*model.eta_LB[n] for n in rxns2 )==model.v[biomass_id[1]])\n",
        "\n",
        "\n",
        "result=SolverFactory('ipopt').solve(model)\n",
        "\n",
        "print('Species1 growth rate: ',model.v[biomass_id[0]].value,'\\nSpecies2 growth rate: ',model.v[biomass_id[1]].value,'\\nCommunity growth rate:', model.obj())\n",
        "print(\"\\nSolver Status:\", result.solver.status)"
      ],
      "metadata": {
        "colab": {
          "base_uri": "https://localhost:8080/"
        },
        "id": "oCsFtQLgOgSv",
        "outputId": "21a3c970-16c7-469f-ccaa-31cef7452a78"
      },
      "execution_count": 4,
      "outputs": [
        {
          "output_type": "stream",
          "name": "stdout",
          "text": [
            "Species1 growth rate:  6.802573988169454e-09 \n",
            "Species2 growth rate:  1.6744048034053816e-09 \n",
            "Community growth rate: 8.476978791574835e-09\n",
            "\n",
            "Solver Status: ok\n"
          ]
        }
      ]
    }
  ]
}